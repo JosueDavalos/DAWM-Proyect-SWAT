{
 "cells": [
  {
   "cell_type": "code",
   "execution_count": 1,
   "metadata": {},
   "outputs": [],
   "source": [
    "import pandas as pd"
   ]
  },
  {
   "cell_type": "code",
   "execution_count": 2,
   "metadata": {},
   "outputs": [],
   "source": [
    "df2 = pd.read_csv('aac_shelter_outcomes.csv').head()"
   ]
  },
  {
   "cell_type": "code",
   "execution_count": 4,
   "metadata": {},
   "outputs": [
    {
     "name": "stdout",
     "output_type": "stream",
     "text": [
      "['Lucy', 'Cat', 'domestic shorthair', 6, 'Female', 'No', 'blue ']\n",
      "['*Frida', 'Cat', 'domestic shorthair', 6, 'Female', 'Yes', 'white']\n",
      "['Stella Luna', 'Cat', 'domestic mediumhair', 7, 'Female', 'Yes', 'black']\n",
      "['Elsa', 'Cat', 'domestic shorthair', 6, 'Female', 'Yes', 'brown']\n",
      "['Chester', 'Cat', 'domestic shorthair', 6, 'Male', 'Yes', 'black']\n"
     ]
    }
   ],
   "source": [
    "from datetime import datetime\n",
    "\n",
    "df = pd.read_csv('aac_shelter_cat_outcome_eng.csv')\n",
    "df = df[df['name'].notnull()]\n",
    "df['date_of_birth'] = ((datetime.now() - pd.to_datetime(df['date_of_birth'])).dt.days/365).astype(int)\n",
    "l = ['name','animal_type','breed','date_of_birth','sex','Spay/Neuter','color1']\n",
    "\n",
    "for i in df[l].head().values:\n",
    "    print(list(i))"
   ]
  },
  {
   "cell_type": "code",
   "execution_count": null,
   "metadata": {},
   "outputs": [],
   "source": []
  }
 ],
 "metadata": {
  "kernelspec": {
   "display_name": "Python 3",
   "language": "python",
   "name": "python3"
  },
  "language_info": {
   "codemirror_mode": {
    "name": "ipython",
    "version": 3
   },
   "file_extension": ".py",
   "mimetype": "text/x-python",
   "name": "python",
   "nbconvert_exporter": "python",
   "pygments_lexer": "ipython3",
   "version": "3.7.6"
  }
 },
 "nbformat": 4,
 "nbformat_minor": 4
}
