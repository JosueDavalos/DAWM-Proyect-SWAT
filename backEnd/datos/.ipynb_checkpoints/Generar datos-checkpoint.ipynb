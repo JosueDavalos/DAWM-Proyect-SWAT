{
 "cells": [
  {
   "cell_type": "code",
   "execution_count": 3,
   "metadata": {},
   "outputs": [],
   "source": [
    "import pandas as pd\n",
    "from datetime import datetime\n",
    "import random as rd"
   ]
  },
  {
   "cell_type": "code",
   "execution_count": 2,
   "metadata": {},
   "outputs": [
    {
     "name": "stdout",
     "output_type": "stream",
     "text": [
      "['Lucy', 'Cat', 'domestic shorthair', 6, 'Female', 'No', 'blue ']\n",
      "['*Frida', 'Cat', 'domestic shorthair', 6, 'Female', 'Yes', 'white']\n",
      "['Stella Luna', 'Cat', 'domestic mediumhair', 7, 'Female', 'Yes', 'black']\n",
      "['Elsa', 'Cat', 'domestic shorthair', 6, 'Female', 'Yes', 'brown']\n",
      "['Chester', 'Cat', 'domestic shorthair', 6, 'Male', 'Yes', 'black']\n"
     ]
    }
   ],
   "source": [
    "# df2 = pd.read_csv('aac_shelter_outcomes.csv').head()\n",
    "\n",
    "df = pd.read_csv('aac_shelter_cat_outcome_eng.csv')\n",
    "df = df[df['name'].notnull()]\n",
    "df['date_of_birth'] = ((datetime.now() - pd.to_datetime(df['date_of_birth'])).dt.days/365).astype(int)\n",
    "l = ['name','animal_type','breed','date_of_birth','sex','Spay/Neuter','color1']\n",
    "\n",
    "for i in df[l].head().values:\n",
    "    print(list(i))"
   ]
  },
  {
   "cell_type": "code",
   "execution_count": 26,
   "metadata": {},
   "outputs": [
    {
     "data": {
      "text/html": [
       "<div>\n",
       "<style scoped>\n",
       "    .dataframe tbody tr th:only-of-type {\n",
       "        vertical-align: middle;\n",
       "    }\n",
       "\n",
       "    .dataframe tbody tr th {\n",
       "        vertical-align: top;\n",
       "    }\n",
       "\n",
       "    .dataframe thead th {\n",
       "        text-align: right;\n",
       "    }\n",
       "</style>\n",
       "<table border=\"1\" class=\"dataframe\">\n",
       "  <thead>\n",
       "    <tr style=\"text-align: right;\">\n",
       "      <th></th>\n",
       "      <th>animal</th>\n",
       "      <th>duenio</th>\n",
       "      <th>fecha</th>\n",
       "    </tr>\n",
       "  </thead>\n",
       "  <tbody>\n",
       "    <tr>\n",
       "      <th>0</th>\n",
       "      <td>1</td>\n",
       "      <td>0790077501</td>\n",
       "      <td>2020-05-16</td>\n",
       "    </tr>\n",
       "    <tr>\n",
       "      <th>1</th>\n",
       "      <td>2</td>\n",
       "      <td>0215456171</td>\n",
       "      <td>2020-01-26</td>\n",
       "    </tr>\n",
       "    <tr>\n",
       "      <th>2</th>\n",
       "      <td>3</td>\n",
       "      <td>0796097743</td>\n",
       "      <td>2018-10-10</td>\n",
       "    </tr>\n",
       "    <tr>\n",
       "      <th>3</th>\n",
       "      <td>4</td>\n",
       "      <td>0247830530</td>\n",
       "      <td>2018-03-20</td>\n",
       "    </tr>\n",
       "    <tr>\n",
       "      <th>4</th>\n",
       "      <td>5</td>\n",
       "      <td>0701961363</td>\n",
       "      <td>2018-09-10</td>\n",
       "    </tr>\n",
       "  </tbody>\n",
       "</table>\n",
       "</div>"
      ],
      "text/plain": [
       "   animal      duenio       fecha\n",
       "0       1  0790077501  2020-05-16\n",
       "1       2  0215456171  2020-01-26\n",
       "2       3  0796097743  2018-10-10\n",
       "3       4  0247830530  2018-03-20\n",
       "4       5  0701961363  2018-09-10"
      ]
     },
     "execution_count": 26,
     "metadata": {},
     "output_type": "execute_result"
    }
   ],
   "source": [
    "def fecha():    \n",
    "    d = str(rd.randint(1,28))\n",
    "    m = str(rd.randint(1,12))\n",
    "    a = str(rd.randint(2018,2020))\n",
    "    \n",
    "    if len(d)==1:\n",
    "        d = \"0\"+d\n",
    "    if len(m)==1:\n",
    "        m=\"0\"+m\n",
    "    return \"-\".join([a,m,d])\n",
    "\n",
    "\n",
    "dueños = pd.read_pickle('personas').cedula.tolist()\n",
    "datos = []\n",
    "\n",
    "for i in range(30):\n",
    "    dueño = rd.choice(dueños)\n",
    "    datos.append([i+1, dueño, fecha()])\n",
    "\n",
    "adopciones = pd.DataFrame(datos, columns = ['animal','duenio','fecha'])\n",
    "adopciones.to_pickle('adopciones')\n",
    "adopciones.head()"
   ]
  },
  {
   "cell_type": "code",
   "execution_count": 28,
   "metadata": {},
   "outputs": [
    {
     "data": {
      "text/html": [
       "<div>\n",
       "<style scoped>\n",
       "    .dataframe tbody tr th:only-of-type {\n",
       "        vertical-align: middle;\n",
       "    }\n",
       "\n",
       "    .dataframe tbody tr th {\n",
       "        vertical-align: top;\n",
       "    }\n",
       "\n",
       "    .dataframe thead th {\n",
       "        text-align: right;\n",
       "    }\n",
       "</style>\n",
       "<table border=\"1\" class=\"dataframe\">\n",
       "  <thead>\n",
       "    <tr style=\"text-align: right;\">\n",
       "      <th></th>\n",
       "      <th>animal</th>\n",
       "      <th>duenio</th>\n",
       "      <th>motivo</th>\n",
       "      <th>fecha</th>\n",
       "    </tr>\n",
       "  </thead>\n",
       "  <tbody>\n",
       "    <tr>\n",
       "      <th>0</th>\n",
       "      <td>32</td>\n",
       "      <td>0876711369</td>\n",
       "      <td>Lo encontré en la calle</td>\n",
       "      <td>2020-09-23</td>\n",
       "    </tr>\n",
       "    <tr>\n",
       "      <th>1</th>\n",
       "      <td>33</td>\n",
       "      <td>0104107312</td>\n",
       "      <td>Mi mamá no lo quiere</td>\n",
       "      <td>2019-12-23</td>\n",
       "    </tr>\n",
       "    <tr>\n",
       "      <th>2</th>\n",
       "      <td>34</td>\n",
       "      <td>0796097743</td>\n",
       "      <td>No puedo mantenerlo</td>\n",
       "      <td>2019-05-15</td>\n",
       "    </tr>\n",
       "    <tr>\n",
       "      <th>3</th>\n",
       "      <td>35</td>\n",
       "      <td>0950946050</td>\n",
       "      <td>Mi papá no lo quiere en la casa</td>\n",
       "      <td>2020-08-02</td>\n",
       "    </tr>\n",
       "    <tr>\n",
       "      <th>4</th>\n",
       "      <td>36</td>\n",
       "      <td>0802558174</td>\n",
       "      <td>No me permiten tener mascotas en mi nuevo depa...</td>\n",
       "      <td>2018-08-26</td>\n",
       "    </tr>\n",
       "  </tbody>\n",
       "</table>\n",
       "</div>"
      ],
      "text/plain": [
       "   animal      duenio                                             motivo  \\\n",
       "0      32  0876711369                            Lo encontré en la calle   \n",
       "1      33  0104107312                               Mi mamá no lo quiere   \n",
       "2      34  0796097743                                No puedo mantenerlo   \n",
       "3      35  0950946050                    Mi papá no lo quiere en la casa   \n",
       "4      36  0802558174  No me permiten tener mascotas en mi nuevo depa...   \n",
       "\n",
       "        fecha  \n",
       "0  2020-09-23  \n",
       "1  2019-12-23  \n",
       "2  2019-05-15  \n",
       "3  2020-08-02  \n",
       "4  2018-08-26  "
      ]
     },
     "execution_count": 28,
     "metadata": {},
     "output_type": "execute_result"
    }
   ],
   "source": [
    "dueños = pd.read_pickle('personas').cedula.tolist()\n",
    "motivos = ['Me voy del país','Ya no me puedo mantener','No me permiten tener mascotas en mi nuevo departamento',\n",
    "           'No puedo mantenerlo','Estoy sin trabajo','Mi mamá no lo quiere','Mi papá no lo quiere en la casa',\n",
    "          'Lo encontré en la calle','Lo dejaron tirado en ESPOL']\n",
    "datos = []\n",
    "\n",
    "for i in range(31,70):\n",
    "    dueño = rd.choice(dueños)\n",
    "    datos.append([i+1, dueño, rd.choice(motivos), fecha()])\n",
    "\n",
    "formularios = pd.DataFrame(datos, columns = ['animal','duenio','motivo','fecha'])\n",
    "formularios.to_pickle('formulario_adopciones')\n",
    "formularios.head()"
   ]
  },
  {
   "cell_type": "code",
   "execution_count": null,
   "metadata": {},
   "outputs": [],
   "source": []
  }
 ],
 "metadata": {
  "kernelspec": {
   "display_name": "Python 3",
   "language": "python",
   "name": "python3"
  },
  "language_info": {
   "codemirror_mode": {
    "name": "ipython",
    "version": 3
   },
   "file_extension": ".py",
   "mimetype": "text/x-python",
   "name": "python",
   "nbconvert_exporter": "python",
   "pygments_lexer": "ipython3",
   "version": "3.7.6"
  }
 },
 "nbformat": 4,
 "nbformat_minor": 4
}
